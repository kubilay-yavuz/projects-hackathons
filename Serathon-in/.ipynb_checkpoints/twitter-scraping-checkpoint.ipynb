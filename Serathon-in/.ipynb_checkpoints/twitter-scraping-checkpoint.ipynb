{
 "cells": [
  {
   "cell_type": "code",
   "execution_count": 1,
   "metadata": {},
   "outputs": [],
   "source": [
    "import os\n",
    "import tweepy as tw\n",
    "import pandas as pd"
   ]
  },
  {
   "cell_type": "code",
   "execution_count": 5,
   "metadata": {},
   "outputs": [],
   "source": [
    "consumer_key= 'jiReQX3JhHrKHv61tWwsIWUSV'\n",
    "consumer_secret= '4WQqbsulZYBd0wkKHneigvEYHS9ciEhNGQuSyXVERU9y3x1oPn'\n",
    "access_token= '469720565-dH4wFcFjkhedrX4CFt3tnGjRsoF1bcJYMg6awJfx'\n",
    "access_token_secret= 'rhTFQTeCMKtvVUDIlwoG7jUJlb6I4MFqXilr4qANlFRgM'"
   ]
  },
  {
   "cell_type": "code",
   "execution_count": 6,
   "metadata": {},
   "outputs": [],
   "source": [
    "auth = tw.OAuthHandler(consumer_key, consumer_secret)\n",
    "auth.set_access_token(access_token, access_token_secret)\n",
    "api = tw.API(auth, wait_on_rate_limit=True)"
   ]
  },
  {
   "cell_type": "code",
   "execution_count": 8,
   "metadata": {
    "scrolled": true
   },
   "outputs": [],
   "source": [
    "# api.update_status(\"yes\")"
   ]
  },
  {
   "cell_type": "code",
   "execution_count": 13,
   "metadata": {},
   "outputs": [],
   "source": [
    "# Define the search term and the date_since date as variables\n",
    "search_words = \"#bist100\"\n",
    "date_since = \"2018-11-16\""
   ]
  },
  {
   "cell_type": "code",
   "execution_count": 14,
   "metadata": {
    "scrolled": true
   },
   "outputs": [
    {
     "data": {
      "text/plain": [
       "['$dxy #dxy #US #dollar #index\\n\\n$usdtry #usdtry #dolar #dollar #döviz #parite #eurusd #gold #xauusd #xagusd #gautry… https://t.co/0p7IwEfkwX',\n",
       " '#Borsaİstanbul #BIST30 10.25.2019 Movers &amp; Draggers #BIST100 Daily Graph https://t.co/y0NAmKplUe',\n",
       " '#Borsaİstanbul #BIST100 10.25.2019 Top Movers &amp; Draggers #BIST https://t.co/uHLHe18Pq4',\n",
       " '#Borsaİstanbul #BIST100 #BIST30 10.25.2019 Index Close #BIST https://t.co/V8Avs71kRU',\n",
       " 'Draghi waves farewell to ECB\\xa0in last policy meeting\\n\\n📌 Read more in detailed EURUSD report: https://t.co/irCm8JLO2d… https://t.co/yZHr1I91iB']"
      ]
     },
     "execution_count": 14,
     "metadata": {},
     "output_type": "execute_result"
    }
   ],
   "source": [
    "# Collect tweets\n",
    "tweets = tw.Cursor(api.search,\n",
    "              q=search_words,\n",
    "              lang=\"en\",\n",
    "              since=date_since).items(5)\n",
    "[i.text for i in tweets]"
   ]
  },
  {
   "cell_type": "code",
   "execution_count": null,
   "metadata": {},
   "outputs": [],
   "source": []
  }
 ],
 "metadata": {
  "kernelspec": {
   "display_name": "Python 3",
   "language": "python",
   "name": "python3"
  },
  "language_info": {
   "codemirror_mode": {
    "name": "ipython",
    "version": 3
   },
   "file_extension": ".py",
   "mimetype": "text/x-python",
   "name": "python",
   "nbconvert_exporter": "python",
   "pygments_lexer": "ipython3",
   "version": "3.6.5"
  }
 },
 "nbformat": 4,
 "nbformat_minor": 2
}
