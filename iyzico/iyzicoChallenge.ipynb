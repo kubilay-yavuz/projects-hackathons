{
 "cells": [
  {
   "cell_type": "code",
   "execution_count": 1,
   "metadata": {},
   "outputs": [
    {
     "name": "stderr",
     "output_type": "stream",
     "text": [
      "Using TensorFlow backend.\n",
      "C:\\Users\\mbura\\AppData\\Roaming\\Python\\Python36\\site-packages\\tensorflow\\python\\framework\\dtypes.py:523: FutureWarning: Passing (type, 1) or '1type' as a synonym of type is deprecated; in a future version of numpy, it will be understood as (type, (1,)) / '(1,)type'.\n",
      "  _np_qint8 = np.dtype([(\"qint8\", np.int8, 1)])\n",
      "C:\\Users\\mbura\\AppData\\Roaming\\Python\\Python36\\site-packages\\tensorflow\\python\\framework\\dtypes.py:524: FutureWarning: Passing (type, 1) or '1type' as a synonym of type is deprecated; in a future version of numpy, it will be understood as (type, (1,)) / '(1,)type'.\n",
      "  _np_quint8 = np.dtype([(\"quint8\", np.uint8, 1)])\n",
      "C:\\Users\\mbura\\AppData\\Roaming\\Python\\Python36\\site-packages\\tensorflow\\python\\framework\\dtypes.py:525: FutureWarning: Passing (type, 1) or '1type' as a synonym of type is deprecated; in a future version of numpy, it will be understood as (type, (1,)) / '(1,)type'.\n",
      "  _np_qint16 = np.dtype([(\"qint16\", np.int16, 1)])\n",
      "C:\\Users\\mbura\\AppData\\Roaming\\Python\\Python36\\site-packages\\tensorflow\\python\\framework\\dtypes.py:526: FutureWarning: Passing (type, 1) or '1type' as a synonym of type is deprecated; in a future version of numpy, it will be understood as (type, (1,)) / '(1,)type'.\n",
      "  _np_quint16 = np.dtype([(\"quint16\", np.uint16, 1)])\n",
      "C:\\Users\\mbura\\AppData\\Roaming\\Python\\Python36\\site-packages\\tensorflow\\python\\framework\\dtypes.py:527: FutureWarning: Passing (type, 1) or '1type' as a synonym of type is deprecated; in a future version of numpy, it will be understood as (type, (1,)) / '(1,)type'.\n",
      "  _np_qint32 = np.dtype([(\"qint32\", np.int32, 1)])\n",
      "C:\\Users\\mbura\\AppData\\Roaming\\Python\\Python36\\site-packages\\tensorflow\\python\\framework\\dtypes.py:532: FutureWarning: Passing (type, 1) or '1type' as a synonym of type is deprecated; in a future version of numpy, it will be understood as (type, (1,)) / '(1,)type'.\n",
      "  np_resource = np.dtype([(\"resource\", np.ubyte, 1)])\n"
     ]
    }
   ],
   "source": [
    "import pandas as pd\n",
    "import numpy as np\n",
    "import matplotlib.pyplot as plt\n",
    "\n",
    "from keras.layers import Dense, Dropout\n",
    "from keras.models import Sequential\n",
    "from keras.regularizers import l1\n",
    "from keras.layers.normalization import BatchNormalization\n",
    "from keras import backend as K\n",
    "\n",
    "from sklearn.preprocessing import StandardScaler\n",
    "from sklearn.model_selection import train_test_split\n",
    "from scipy.stats import skew\n",
    "from scipy.stats.stats import pearsonr\n",
    "\n",
    "from sklearn.metrics import fbeta_score\n",
    "\n",
    "from keras.callbacks import EarlyStopping, ModelCheckpoint, ReduceLROnPlateau\n",
    "from sklearn.preprocessing import LabelEncoder, MinMaxScaler\n",
    "\n",
    "def root_mean_squared_error(y_true, y_pred):\n",
    "        return K.sqrt(K.mean(K.square(y_pred - y_true))) "
   ]
  },
  {
   "cell_type": "code",
   "execution_count": 129,
   "metadata": {},
   "outputs": [],
   "source": [
    "df = pd.read_csv(\"C:/Users/mbura/Desktop/iyzico/train.csv\")\n",
    "sub = pd.read_csv(\"C:/Users/mbura/Desktop/iyzico/test.csv\")\n",
    "sub = sub.set_index(\"ID\")"
   ]
  },
  {
   "cell_type": "code",
   "execution_count": 130,
   "metadata": {},
   "outputs": [
    {
     "data": {
      "text/plain": [
       "0    157516\n",
       "1      2484\n",
       "Name: ISFRAUD, dtype: int64"
      ]
     },
     "execution_count": 130,
     "metadata": {},
     "output_type": "execute_result"
    }
   ],
   "source": [
    "df.ISFRAUD.value_counts()"
   ]
  },
  {
   "cell_type": "code",
   "execution_count": 131,
   "metadata": {},
   "outputs": [
    {
     "data": {
      "text/plain": [
       "7.963180164060198"
      ]
     },
     "execution_count": 131,
     "metadata": {},
     "output_type": "execute_result"
    }
   ],
   "source": [
    "scale_pos_weight = np.sqrt(157516/2484) \n",
    "scale_pos_weight"
   ]
  },
  {
   "cell_type": "code",
   "execution_count": 132,
   "metadata": {},
   "outputs": [
    {
     "data": {
      "text/plain": [
       "1.5525"
      ]
     },
     "execution_count": 132,
     "metadata": {},
     "output_type": "execute_result"
    }
   ],
   "source": [
    "100*2484/(157516+2484)"
   ]
  },
  {
   "cell_type": "markdown",
   "metadata": {},
   "source": [
    "## Class imbalance"
   ]
  },
  {
   "cell_type": "code",
   "execution_count": 140,
   "metadata": {},
   "outputs": [
    {
     "data": {
      "text/html": [
       "<div>\n",
       "<style scoped>\n",
       "    .dataframe tbody tr th:only-of-type {\n",
       "        vertical-align: middle;\n",
       "    }\n",
       "\n",
       "    .dataframe tbody tr th {\n",
       "        vertical-align: top;\n",
       "    }\n",
       "\n",
       "    .dataframe thead th {\n",
       "        text-align: right;\n",
       "    }\n",
       "</style>\n",
       "<table border=\"1\" class=\"dataframe\">\n",
       "  <thead>\n",
       "    <tr style=\"text-align: right;\">\n",
       "      <th></th>\n",
       "      <th>BASKETPAIDPRICE</th>\n",
       "      <th>BASKETINSTALLMENT</th>\n",
       "      <th>BASKETPAYMENTCHANNEL</th>\n",
       "      <th>BASKETPAYMENTSOURCETYPE</th>\n",
       "      <th>BASKETISTHREEDS</th>\n",
       "      <th>BASKETREGISTERCARD</th>\n",
       "      <th>BASKETHASVIRTUALITEM</th>\n",
       "      <th>CARDTYPE</th>\n",
       "      <th>CARDASSOCIATION</th>\n",
       "      <th>EMAIL</th>\n",
       "      <th>CARDBANKID</th>\n",
       "      <th>MERCHANT_ID</th>\n",
       "      <th>ISFRAUD</th>\n",
       "    </tr>\n",
       "  </thead>\n",
       "  <tbody>\n",
       "    <tr>\n",
       "      <th>0</th>\n",
       "      <td>0.220099</td>\n",
       "      <td>1</td>\n",
       "      <td>9</td>\n",
       "      <td>1</td>\n",
       "      <td>1</td>\n",
       "      <td>0</td>\n",
       "      <td>0</td>\n",
       "      <td>1</td>\n",
       "      <td>1</td>\n",
       "      <td>1403000</td>\n",
       "      <td>7</td>\n",
       "      <td>6679</td>\n",
       "      <td>0</td>\n",
       "    </tr>\n",
       "    <tr>\n",
       "      <th>1</th>\n",
       "      <td>-0.173116</td>\n",
       "      <td>1</td>\n",
       "      <td>1</td>\n",
       "      <td>1</td>\n",
       "      <td>1</td>\n",
       "      <td>0</td>\n",
       "      <td>1</td>\n",
       "      <td>1</td>\n",
       "      <td>1</td>\n",
       "      <td>902058</td>\n",
       "      <td>7</td>\n",
       "      <td>8220</td>\n",
       "      <td>0</td>\n",
       "    </tr>\n",
       "    <tr>\n",
       "      <th>2</th>\n",
       "      <td>-0.228070</td>\n",
       "      <td>1</td>\n",
       "      <td>9</td>\n",
       "      <td>1</td>\n",
       "      <td>0</td>\n",
       "      <td>0</td>\n",
       "      <td>0</td>\n",
       "      <td>1</td>\n",
       "      <td>1</td>\n",
       "      <td>1454563</td>\n",
       "      <td>0</td>\n",
       "      <td>4698</td>\n",
       "      <td>0</td>\n",
       "    </tr>\n",
       "    <tr>\n",
       "      <th>3</th>\n",
       "      <td>-0.098923</td>\n",
       "      <td>1</td>\n",
       "      <td>2</td>\n",
       "      <td>1</td>\n",
       "      <td>0</td>\n",
       "      <td>0</td>\n",
       "      <td>0</td>\n",
       "      <td>1</td>\n",
       "      <td>2</td>\n",
       "      <td>1708531</td>\n",
       "      <td>7</td>\n",
       "      <td>28</td>\n",
       "      <td>0</td>\n",
       "    </tr>\n",
       "    <tr>\n",
       "      <th>4</th>\n",
       "      <td>-0.059801</td>\n",
       "      <td>3</td>\n",
       "      <td>1</td>\n",
       "      <td>3</td>\n",
       "      <td>1</td>\n",
       "      <td>0</td>\n",
       "      <td>0</td>\n",
       "      <td>1</td>\n",
       "      <td>1</td>\n",
       "      <td>1832048</td>\n",
       "      <td>4</td>\n",
       "      <td>694</td>\n",
       "      <td>0</td>\n",
       "    </tr>\n",
       "  </tbody>\n",
       "</table>\n",
       "</div>"
      ],
      "text/plain": [
       "   BASKETPAIDPRICE  BASKETINSTALLMENT  BASKETPAYMENTCHANNEL  \\\n",
       "0         0.220099                  1                     9   \n",
       "1        -0.173116                  1                     1   \n",
       "2        -0.228070                  1                     9   \n",
       "3        -0.098923                  1                     2   \n",
       "4        -0.059801                  3                     1   \n",
       "\n",
       "   BASKETPAYMENTSOURCETYPE  BASKETISTHREEDS  BASKETREGISTERCARD  \\\n",
       "0                        1                1                   0   \n",
       "1                        1                1                   0   \n",
       "2                        1                0                   0   \n",
       "3                        1                0                   0   \n",
       "4                        3                1                   0   \n",
       "\n",
       "   BASKETHASVIRTUALITEM  CARDTYPE  CARDASSOCIATION    EMAIL  CARDBANKID  \\\n",
       "0                     0         1                1  1403000           7   \n",
       "1                     1         1                1   902058           7   \n",
       "2                     0         1                1  1454563           0   \n",
       "3                     0         1                2  1708531           7   \n",
       "4                     0         1                1  1832048           4   \n",
       "\n",
       "   MERCHANT_ID  ISFRAUD  \n",
       "0         6679        0  \n",
       "1         8220        0  \n",
       "2         4698        0  \n",
       "3           28        0  \n",
       "4          694        0  "
      ]
     },
     "execution_count": 140,
     "metadata": {},
     "output_type": "execute_result"
    }
   ],
   "source": [
    "df.head()"
   ]
  },
  {
   "cell_type": "code",
   "execution_count": 137,
   "metadata": {},
   "outputs": [
    {
     "data": {
      "text/html": [
       "<div>\n",
       "<style scoped>\n",
       "    .dataframe tbody tr th:only-of-type {\n",
       "        vertical-align: middle;\n",
       "    }\n",
       "\n",
       "    .dataframe tbody tr th {\n",
       "        vertical-align: top;\n",
       "    }\n",
       "\n",
       "    .dataframe thead th {\n",
       "        text-align: right;\n",
       "    }\n",
       "</style>\n",
       "<table border=\"1\" class=\"dataframe\">\n",
       "  <thead>\n",
       "    <tr style=\"text-align: right;\">\n",
       "      <th></th>\n",
       "      <th>BASKETPAIDPRICE</th>\n",
       "      <th>BASKETINSTALLMENT</th>\n",
       "      <th>BASKETPAYMENTCHANNEL</th>\n",
       "      <th>BASKETPAYMENTSOURCETYPE</th>\n",
       "      <th>BASKETISTHREEDS</th>\n",
       "      <th>BASKETREGISTERCARD</th>\n",
       "      <th>BASKETHASVIRTUALITEM</th>\n",
       "      <th>CARDTYPE</th>\n",
       "      <th>CARDASSOCIATION</th>\n",
       "      <th>EMAIL</th>\n",
       "      <th>CARDBANKID</th>\n",
       "      <th>MERCHANT_ID</th>\n",
       "    </tr>\n",
       "    <tr>\n",
       "      <th>ID</th>\n",
       "      <th></th>\n",
       "      <th></th>\n",
       "      <th></th>\n",
       "      <th></th>\n",
       "      <th></th>\n",
       "      <th></th>\n",
       "      <th></th>\n",
       "      <th></th>\n",
       "      <th></th>\n",
       "      <th></th>\n",
       "      <th></th>\n",
       "      <th></th>\n",
       "    </tr>\n",
       "  </thead>\n",
       "  <tbody>\n",
       "    <tr>\n",
       "      <th>0</th>\n",
       "      <td>-0.030406</td>\n",
       "      <td>1</td>\n",
       "      <td>9</td>\n",
       "      <td>1</td>\n",
       "      <td>0</td>\n",
       "      <td>0</td>\n",
       "      <td>1</td>\n",
       "      <td>1</td>\n",
       "      <td>2</td>\n",
       "      <td>95248</td>\n",
       "      <td>8</td>\n",
       "      <td>163</td>\n",
       "    </tr>\n",
       "    <tr>\n",
       "      <th>1</th>\n",
       "      <td>-0.261830</td>\n",
       "      <td>1</td>\n",
       "      <td>9</td>\n",
       "      <td>1</td>\n",
       "      <td>0</td>\n",
       "      <td>0</td>\n",
       "      <td>1</td>\n",
       "      <td>2</td>\n",
       "      <td>1</td>\n",
       "      <td>1123807</td>\n",
       "      <td>15</td>\n",
       "      <td>6945</td>\n",
       "    </tr>\n",
       "    <tr>\n",
       "      <th>2</th>\n",
       "      <td>0.135299</td>\n",
       "      <td>1</td>\n",
       "      <td>4</td>\n",
       "      <td>3</td>\n",
       "      <td>0</td>\n",
       "      <td>0</td>\n",
       "      <td>0</td>\n",
       "      <td>1</td>\n",
       "      <td>1</td>\n",
       "      <td>878540</td>\n",
       "      <td>7</td>\n",
       "      <td>1232</td>\n",
       "    </tr>\n",
       "    <tr>\n",
       "      <th>3</th>\n",
       "      <td>-0.002224</td>\n",
       "      <td>1</td>\n",
       "      <td>1</td>\n",
       "      <td>1</td>\n",
       "      <td>0</td>\n",
       "      <td>0</td>\n",
       "      <td>1</td>\n",
       "      <td>1</td>\n",
       "      <td>1</td>\n",
       "      <td>755894</td>\n",
       "      <td>8</td>\n",
       "      <td>1733</td>\n",
       "    </tr>\n",
       "    <tr>\n",
       "      <th>4</th>\n",
       "      <td>-0.197247</td>\n",
       "      <td>1</td>\n",
       "      <td>9</td>\n",
       "      <td>1</td>\n",
       "      <td>0</td>\n",
       "      <td>0</td>\n",
       "      <td>1</td>\n",
       "      <td>1</td>\n",
       "      <td>2</td>\n",
       "      <td>1123807</td>\n",
       "      <td>9</td>\n",
       "      <td>6945</td>\n",
       "    </tr>\n",
       "  </tbody>\n",
       "</table>\n",
       "</div>"
      ],
      "text/plain": [
       "    BASKETPAIDPRICE  BASKETINSTALLMENT  BASKETPAYMENTCHANNEL  \\\n",
       "ID                                                             \n",
       "0         -0.030406                  1                     9   \n",
       "1         -0.261830                  1                     9   \n",
       "2          0.135299                  1                     4   \n",
       "3         -0.002224                  1                     1   \n",
       "4         -0.197247                  1                     9   \n",
       "\n",
       "    BASKETPAYMENTSOURCETYPE  BASKETISTHREEDS  BASKETREGISTERCARD  \\\n",
       "ID                                                                 \n",
       "0                         1                0                   0   \n",
       "1                         1                0                   0   \n",
       "2                         3                0                   0   \n",
       "3                         1                0                   0   \n",
       "4                         1                0                   0   \n",
       "\n",
       "    BASKETHASVIRTUALITEM  CARDTYPE  CARDASSOCIATION    EMAIL  CARDBANKID  \\\n",
       "ID                                                                         \n",
       "0                      1         1                2    95248           8   \n",
       "1                      1         2                1  1123807          15   \n",
       "2                      0         1                1   878540           7   \n",
       "3                      1         1                1   755894           8   \n",
       "4                      1         1                2  1123807           9   \n",
       "\n",
       "    MERCHANT_ID  \n",
       "ID               \n",
       "0           163  \n",
       "1          6945  \n",
       "2          1232  \n",
       "3          1733  \n",
       "4          6945  "
      ]
     },
     "execution_count": 137,
     "metadata": {},
     "output_type": "execute_result"
    }
   ],
   "source": [
    "sub.head()"
   ]
  },
  {
   "cell_type": "code",
   "execution_count": 134,
   "metadata": {
    "scrolled": true
   },
   "outputs": [
    {
     "name": "stdout",
     "output_type": "stream",
     "text": [
      "BASKETPAIDPRICE :\n",
      "\n",
      "-0.263298    5926\n",
      "-0.261341    4769\n",
      "-0.255469    3131\n",
      "-0.216348    2839\n",
      "-0.245684    1933\n",
      "             ... \n",
      " 0.230863       1\n",
      " 0.244758       1\n",
      " 0.810782       1\n",
      "-0.001735       1\n",
      " 1.645748       1\n",
      "Name: BASKETPAIDPRICE, Length: 24714, dtype: int64\n",
      "\n",
      "\n",
      "BASKETINSTALLMENT :\n",
      "\n",
      "1     144271\n",
      "3      10729\n",
      "2       2557\n",
      "6       1685\n",
      "9        566\n",
      "12       113\n",
      "4         39\n",
      "8         27\n",
      "5         11\n",
      "7          2\n",
      "Name: BASKETINSTALLMENT, dtype: int64\n",
      "\n",
      "\n",
      "BASKETPAYMENTCHANNEL :\n",
      "\n",
      "9    56246\n",
      "1    49799\n",
      "2    22535\n",
      "5    17348\n",
      "4    12809\n",
      "6      843\n",
      "3      420\n",
      "Name: BASKETPAYMENTCHANNEL, dtype: int64\n",
      "\n",
      "\n",
      "BASKETPAYMENTSOURCETYPE :\n",
      "\n",
      "1    132493\n",
      "3     26756\n",
      "4       449\n",
      "2       302\n",
      "Name: BASKETPAYMENTSOURCETYPE, dtype: int64\n",
      "\n",
      "\n",
      "BASKETISTHREEDS :\n",
      "\n",
      "0    102215\n",
      "1     57785\n",
      "Name: BASKETISTHREEDS, dtype: int64\n",
      "\n",
      "\n",
      "BASKETREGISTERCARD :\n",
      "\n",
      "0    160000\n",
      "Name: BASKETREGISTERCARD, dtype: int64\n",
      "\n",
      "\n",
      "BASKETHASVIRTUALITEM :\n",
      "\n",
      "0    94025\n",
      "1    65975\n",
      "Name: BASKETHASVIRTUALITEM, dtype: int64\n",
      "\n",
      "\n",
      "CARDTYPE :\n",
      "\n",
      "1    111115\n",
      "2     48885\n",
      "Name: CARDTYPE, dtype: int64\n",
      "\n",
      "\n",
      "CARDASSOCIATION :\n",
      "\n",
      "1    94172\n",
      "2    65828\n",
      "Name: CARDASSOCIATION, dtype: int64\n",
      "\n",
      "\n",
      "EMAIL :\n",
      "\n",
      "671845     15453\n",
      "610705     11287\n",
      "1653885     5778\n",
      "671844      5501\n",
      "749253      5309\n",
      "           ...  \n",
      "1181459        1\n",
      "1193749        1\n",
      "1191702        1\n",
      "153369         1\n",
      "680869         1\n",
      "Name: EMAIL, Length: 95208, dtype: int64\n",
      "\n",
      "\n",
      "CARDBANKID :\n",
      "\n",
      "7     32236\n",
      "8     22984\n",
      "1     22674\n",
      "9     20120\n",
      "5     16452\n",
      "15    12989\n",
      "3      7962\n",
      "2      4925\n",
      "4      4706\n",
      "18     4634\n",
      "0      2965\n",
      "12     1763\n",
      "23     1700\n",
      "31     1182\n",
      "16      981\n",
      "22      349\n",
      "24      324\n",
      "27      312\n",
      "6       172\n",
      "21      160\n",
      "29      154\n",
      "20      109\n",
      "28       31\n",
      "30       29\n",
      "14       22\n",
      "25       18\n",
      "13       15\n",
      "19       11\n",
      "26       10\n",
      "17       10\n",
      "11        1\n",
      "Name: CARDBANKID, dtype: int64\n",
      "\n",
      "\n",
      "MERCHANT_ID :\n",
      "\n",
      "774     14644\n",
      "12      11417\n",
      "170      7251\n",
      "7622     7178\n",
      "955      6939\n",
      "        ...  \n",
      "323         1\n",
      "6592        1\n",
      "6976        1\n",
      "7488        1\n",
      "2049        1\n",
      "Name: MERCHANT_ID, Length: 3154, dtype: int64\n",
      "\n",
      "\n",
      "ISFRAUD :\n",
      "\n",
      "0    157516\n",
      "1      2484\n",
      "Name: ISFRAUD, dtype: int64\n",
      "\n",
      "\n"
     ]
    }
   ],
   "source": [
    "for col in list(df.columns):\n",
    "    print(col+\" :\\n\")\n",
    "    print(df[col].value_counts())\n",
    "    print(\"\\n\")\n"
   ]
  },
  {
   "cell_type": "code",
   "execution_count": 135,
   "metadata": {
    "scrolled": true
   },
   "outputs": [
    {
     "name": "stdout",
     "output_type": "stream",
     "text": [
      "BASKETPAIDPRICE :\n",
      "\n",
      "-0.263298    1436\n",
      "-0.261341    1198\n",
      "-0.255469     780\n",
      "-0.216348     758\n",
      "-0.245684     486\n",
      "             ... \n",
      " 9.320287       1\n",
      " 0.018071       1\n",
      " 5.304278       1\n",
      "-0.191591       1\n",
      " 0.066841       1\n",
      "Name: BASKETPAIDPRICE, Length: 10146, dtype: int64\n",
      "\n",
      "\n",
      "BASKETINSTALLMENT :\n",
      "\n",
      "1     36038\n",
      "3      2685\n",
      "2       697\n",
      "6       407\n",
      "9       134\n",
      "12       28\n",
      "8         5\n",
      "4         5\n",
      "5         1\n",
      "Name: BASKETINSTALLMENT, dtype: int64\n",
      "\n",
      "\n",
      "BASKETPAYMENTCHANNEL :\n",
      "\n",
      "9    14063\n",
      "1    12454\n",
      "2     5771\n",
      "5     4251\n",
      "4     3174\n",
      "6      199\n",
      "3       88\n",
      "Name: BASKETPAYMENTCHANNEL, dtype: int64\n",
      "\n",
      "\n",
      "BASKETPAYMENTSOURCETYPE :\n",
      "\n",
      "1    33218\n",
      "3     6581\n",
      "4      135\n",
      "2       66\n",
      "Name: BASKETPAYMENTSOURCETYPE, dtype: int64\n",
      "\n",
      "\n",
      "BASKETISTHREEDS :\n",
      "\n",
      "0    25588\n",
      "1    14412\n",
      "Name: BASKETISTHREEDS, dtype: int64\n",
      "\n",
      "\n",
      "BASKETREGISTERCARD :\n",
      "\n",
      "0    40000\n",
      "Name: BASKETREGISTERCARD, dtype: int64\n",
      "\n",
      "\n",
      "BASKETHASVIRTUALITEM :\n",
      "\n",
      "0    23436\n",
      "1    16564\n",
      "Name: BASKETHASVIRTUALITEM, dtype: int64\n",
      "\n",
      "\n",
      "CARDTYPE :\n",
      "\n",
      "1    27802\n",
      "2    12198\n",
      "Name: CARDTYPE, dtype: int64\n",
      "\n",
      "\n",
      "CARDASSOCIATION :\n",
      "\n",
      "1    23594\n",
      "2    16406\n",
      "Name: CARDASSOCIATION, dtype: int64\n",
      "\n",
      "\n",
      "EMAIL :\n",
      "\n",
      "671845     3827\n",
      "610705     2861\n",
      "1653885    1474\n",
      "671844     1355\n",
      "749253     1328\n",
      "           ... \n",
      "834379        1\n",
      "804324        1\n",
      "1894269       1\n",
      "1362757       1\n",
      "133121        1\n",
      "Name: EMAIL, Length: 25089, dtype: int64\n",
      "\n",
      "\n",
      "CARDBANKID :\n",
      "\n",
      "7     8037\n",
      "8     5864\n",
      "1     5717\n",
      "9     5145\n",
      "5     4020\n",
      "15    3136\n",
      "3     1978\n",
      "2     1302\n",
      "18    1161\n",
      "4     1128\n",
      "0      757\n",
      "12     457\n",
      "23     396\n",
      "31     294\n",
      "16     209\n",
      "24      85\n",
      "22      68\n",
      "27      62\n",
      "6       43\n",
      "29      42\n",
      "21      33\n",
      "20      26\n",
      "28       9\n",
      "30       7\n",
      "19       7\n",
      "14       4\n",
      "13       4\n",
      "25       4\n",
      "26       2\n",
      "17       2\n",
      "11       1\n",
      "Name: CARDBANKID, dtype: int64\n",
      "\n",
      "\n",
      "MERCHANT_ID :\n",
      "\n",
      "774     3607\n",
      "12      2891\n",
      "170     1879\n",
      "7622    1767\n",
      "955     1752\n",
      "        ... \n",
      "4304       1\n",
      "178        1\n",
      "2195       1\n",
      "6289       1\n",
      "2049       1\n",
      "Name: MERCHANT_ID, Length: 1615, dtype: int64\n",
      "\n",
      "\n"
     ]
    }
   ],
   "source": [
    "for col in list(sub.columns):\n",
    "    print(col+\" :\\n\")\n",
    "    print(sub[col].value_counts())\n",
    "    print(\"\\n\")\n"
   ]
  },
  {
   "cell_type": "markdown",
   "metadata": {},
   "source": [
    "## Training"
   ]
  },
  {
   "cell_type": "code",
   "execution_count": 141,
   "metadata": {},
   "outputs": [
    {
     "data": {
      "text/plain": [
       "9148      0.003453\n",
       "3327      0.002248\n",
       "5999      0.000128\n",
       "89838     0.000203\n",
       "31242     0.000511\n",
       "            ...   \n",
       "37454     0.000010\n",
       "40872     0.000008\n",
       "67698     0.000153\n",
       "131631    0.000122\n",
       "82781     0.000020\n",
       "Name: BASKETPAIDPRICE, Length: 128000, dtype: float64"
      ]
     },
     "execution_count": 141,
     "metadata": {},
     "output_type": "execute_result"
    }
   ],
   "source": [
    "X_train.BASKETPAIDPRICE"
   ]
  },
  {
   "cell_type": "code",
   "execution_count": 142,
   "metadata": {},
   "outputs": [],
   "source": [
    "X_train, X_test, y_train, y_test = train_test_split(df.drop(columns=[\"ISFRAUD\"]), df['ISFRAUD'], test_size=0.2)\n"
   ]
  },
  {
   "cell_type": "code",
   "execution_count": 143,
   "metadata": {},
   "outputs": [],
   "source": [
    "# Rescale data\n",
    "from sklearn.preprocessing import StandardScaler\n",
    "\n",
    "scaler = StandardScaler()\n",
    "X_train.BASKETPAIDPRICE = scaler.fit_transform(X_train.BASKETPAIDPRICE.values.reshape(-1, 1))\n",
    "X_test.BASKETPAIDPRICE = scaler.fit_transform(X_test.BASKETPAIDPRICE.values.reshape(-1, 1))\n",
    "sub.BASKETPAIDPRICE = scaler.fit_transform(sub.BASKETPAIDPRICE.values.reshape(-1, 1))\n",
    "\n"
   ]
  },
  {
   "cell_type": "code",
   "execution_count": 145,
   "metadata": {},
   "outputs": [
    {
     "data": {
      "text/plain": [
       "(184.1160394019869, 89.15859943107476)"
      ]
     },
     "execution_count": 145,
     "metadata": {},
     "output_type": "execute_result"
    }
   ],
   "source": [
    "max(X_train.BASKETPAIDPRICE), max(X_test.BASKETPAIDPRICE)"
   ]
  },
  {
   "cell_type": "code",
   "execution_count": 146,
   "metadata": {},
   "outputs": [
    {
     "name": "stdout",
     "output_type": "stream",
     "text": [
      "Loading data...\n",
      "Starting training...\n",
      "[1]\tvalid_0's auc: 0.849648\n",
      "Training until validation scores don't improve for 500 rounds.\n",
      "[2]\tvalid_0's auc: 0.91752\n",
      "[3]\tvalid_0's auc: 0.920257\n",
      "[4]\tvalid_0's auc: 0.930202\n",
      "[5]\tvalid_0's auc: 0.931487\n",
      "[6]\tvalid_0's auc: 0.933977\n",
      "[7]\tvalid_0's auc: 0.934982"
     ]
    },
    {
     "name": "stderr",
     "output_type": "stream",
     "text": [
      "c:\\users\\mbura\\appdata\\local\\programs\\python\\python36\\lib\\site-packages\\lightgbm\\engine.py:118: UserWarning: Found `n_estimators` in params. Will use it instead of argument\n",
      "  warnings.warn(\"Found `{}` in params. Will use it instead of argument\".format(alias))\n"
     ]
    },
    {
     "name": "stdout",
     "output_type": "stream",
     "text": [
      "\n",
      "[8]\tvalid_0's auc: 0.935469\n",
      "[9]\tvalid_0's auc: 0.936899\n",
      "[10]\tvalid_0's auc: 0.936749\n",
      "[11]\tvalid_0's auc: 0.938715\n",
      "[12]\tvalid_0's auc: 0.938787\n",
      "[13]\tvalid_0's auc: 0.940588\n",
      "[14]\tvalid_0's auc: 0.940088\n",
      "[15]\tvalid_0's auc: 0.939689\n",
      "[16]\tvalid_0's auc: 0.939688\n",
      "[17]\tvalid_0's auc: 0.939642\n",
      "[18]\tvalid_0's auc: 0.939535\n",
      "[19]\tvalid_0's auc: 0.93926\n",
      "[20]\tvalid_0's auc: 0.93867\n",
      "[21]\tvalid_0's auc: 0.938472\n",
      "[22]\tvalid_0's auc: 0.937758\n",
      "[23]\tvalid_0's auc: 0.937621\n",
      "[24]\tvalid_0's auc: 0.938418\n",
      "[25]\tvalid_0's auc: 0.938417\n",
      "[26]\tvalid_0's auc: 0.938571\n",
      "[27]\tvalid_0's auc: 0.938318\n",
      "[28]\tvalid_0's auc: 0.938164\n",
      "[29]\tvalid_0's auc: 0.938121\n",
      "[30]\tvalid_0's auc: 0.938064\n",
      "[31]\tvalid_0's auc: 0.938238\n",
      "[32]\tvalid_0's auc: 0.937884\n",
      "[33]\tvalid_0's auc: 0.938059\n",
      "[34]\tvalid_0's auc: 0.937574\n",
      "[35]\tvalid_0's auc: 0.937648\n",
      "[36]\tvalid_0's auc: 0.938061\n",
      "[37]\tvalid_0's auc: 0.938053\n",
      "[38]\tvalid_0's auc: 0.93735\n",
      "[39]\tvalid_0's auc: 0.937907\n",
      "[40]\tvalid_0's auc: 0.937937\n",
      "[41]\tvalid_0's auc: 0.93787\n",
      "[42]\tvalid_0's auc: 0.938156\n",
      "[43]\tvalid_0's auc: 0.938671\n",
      "[44]\tvalid_0's auc: 0.93872\n",
      "[45]\tvalid_0's auc: 0.93923\n",
      "[46]\tvalid_0's auc: 0.939023\n",
      "[47]\tvalid_0's auc: 0.939161\n",
      "[48]\tvalid_0's auc: 0.939539\n",
      "[49]\tvalid_0's auc: 0.939527\n",
      "[50]\tvalid_0's auc: 0.939461\n",
      "[51]\tvalid_0's auc: 0.939622\n",
      "[52]\tvalid_0's auc: 0.939691\n",
      "[53]\tvalid_0's auc: 0.939746\n",
      "[54]\tvalid_0's auc: 0.939801\n",
      "[55]\tvalid_0's auc: 0.940014\n",
      "[56]\tvalid_0's auc: 0.940239\n",
      "[57]\tvalid_0's auc: 0.940133\n",
      "[58]\tvalid_0's auc: 0.940022\n",
      "[59]\tvalid_0's auc: 0.939892\n",
      "[60]\tvalid_0's auc: 0.939973\n",
      "[61]\tvalid_0's auc: 0.9397\n",
      "[62]\tvalid_0's auc: 0.93946\n",
      "[63]\tvalid_0's auc: 0.939242\n",
      "[64]\tvalid_0's auc: 0.938927\n",
      "[65]\tvalid_0's auc: 0.938984\n",
      "[66]\tvalid_0's auc: 0.938989\n",
      "[67]\tvalid_0's auc: 0.939001\n",
      "[68]\tvalid_0's auc: 0.93976\n",
      "[69]\tvalid_0's auc: 0.93954\n",
      "[70]\tvalid_0's auc: 0.939583\n",
      "[71]\tvalid_0's auc: 0.939731\n",
      "[72]\tvalid_0's auc: 0.939927\n",
      "[73]\tvalid_0's auc: 0.939675\n",
      "[74]\tvalid_0's auc: 0.939889\n",
      "[75]\tvalid_0's auc: 0.939836\n",
      "[76]\tvalid_0's auc: 0.939713\n",
      "[77]\tvalid_0's auc: 0.939654\n",
      "[78]\tvalid_0's auc: 0.9396\n",
      "[79]\tvalid_0's auc: 0.939511\n",
      "[80]\tvalid_0's auc: 0.939306\n",
      "[81]\tvalid_0's auc: 0.939103\n",
      "[82]\tvalid_0's auc: 0.93904\n",
      "[83]\tvalid_0's auc: 0.939047\n",
      "[84]\tvalid_0's auc: 0.939043\n",
      "[85]\tvalid_0's auc: 0.939029\n",
      "[86]\tvalid_0's auc: 0.939145\n",
      "[87]\tvalid_0's auc: 0.939017\n",
      "[88]\tvalid_0's auc: 0.939087\n",
      "[89]\tvalid_0's auc: 0.939047\n",
      "[90]\tvalid_0's auc: 0.938855\n",
      "[91]\tvalid_0's auc: 0.93887\n",
      "[92]\tvalid_0's auc: 0.939045\n",
      "[93]\tvalid_0's auc: 0.939036\n",
      "[94]\tvalid_0's auc: 0.938973\n",
      "[95]\tvalid_0's auc: 0.939019\n",
      "[96]\tvalid_0's auc: 0.93899\n",
      "[97]\tvalid_0's auc: 0.93904\n",
      "[98]\tvalid_0's auc: 0.938966\n",
      "[99]\tvalid_0's auc: 0.938787\n",
      "[100]\tvalid_0's auc: 0.938768\n",
      "[101]\tvalid_0's auc: 0.938788\n",
      "[102]\tvalid_0's auc: 0.938341\n",
      "[103]\tvalid_0's auc: 0.93884\n",
      "[104]\tvalid_0's auc: 0.938429\n",
      "[105]\tvalid_0's auc: 0.938732\n",
      "[106]\tvalid_0's auc: 0.938748\n",
      "[107]\tvalid_0's auc: 0.938707\n",
      "[108]\tvalid_0's auc: 0.938567\n",
      "[109]\tvalid_0's auc: 0.938561\n",
      "[110]\tvalid_0's auc: 0.938384\n",
      "[111]\tvalid_0's auc: 0.938486\n",
      "[112]\tvalid_0's auc: 0.938387\n",
      "[113]\tvalid_0's auc: 0.938195\n",
      "[114]\tvalid_0's auc: 0.938168\n",
      "[115]\tvalid_0's auc: 0.938118\n",
      "[116]\tvalid_0's auc: 0.938195\n",
      "[117]\tvalid_0's auc: 0.937995\n",
      "[118]\tvalid_0's auc: 0.938046\n",
      "[119]\tvalid_0's auc: 0.938079\n",
      "[120]\tvalid_0's auc: 0.938036\n",
      "[121]\tvalid_0's auc: 0.93802\n",
      "[122]\tvalid_0's auc: 0.938065\n",
      "[123]\tvalid_0's auc: 0.938046\n",
      "[124]\tvalid_0's auc: 0.938081\n",
      "[125]\tvalid_0's auc: 0.938025\n",
      "[126]\tvalid_0's auc: 0.937791\n",
      "[127]\tvalid_0's auc: 0.937653\n",
      "[128]\tvalid_0's auc: 0.937697\n",
      "[129]\tvalid_0's auc: 0.937785\n",
      "[130]\tvalid_0's auc: 0.93795\n",
      "[131]\tvalid_0's auc: 0.937693\n",
      "[132]\tvalid_0's auc: 0.937701\n",
      "[133]\tvalid_0's auc: 0.937591\n",
      "[134]\tvalid_0's auc: 0.937549\n",
      "[135]\tvalid_0's auc: 0.937295\n",
      "[136]\tvalid_0's auc: 0.937225\n",
      "[137]\tvalid_0's auc: 0.937034\n",
      "[138]\tvalid_0's auc: 0.93691\n",
      "[139]\tvalid_0's auc: 0.936995\n",
      "[140]\tvalid_0's auc: 0.936837\n",
      "[141]\tvalid_0's auc: 0.936986\n",
      "[142]\tvalid_0's auc: 0.937085\n",
      "[143]\tvalid_0's auc: 0.937108\n",
      "[144]\tvalid_0's auc: 0.936793\n",
      "[145]\tvalid_0's auc: 0.936788\n",
      "[146]\tvalid_0's auc: 0.936879\n",
      "[147]\tvalid_0's auc: 0.936928\n",
      "[148]\tvalid_0's auc: 0.93689\n",
      "[149]\tvalid_0's auc: 0.936934\n",
      "[150]\tvalid_0's auc: 0.936843\n",
      "[151]\tvalid_0's auc: 0.936899\n",
      "[152]\tvalid_0's auc: 0.936923\n",
      "[153]\tvalid_0's auc: 0.936835\n",
      "[154]\tvalid_0's auc: 0.93674\n",
      "[155]\tvalid_0's auc: 0.936798\n",
      "[156]\tvalid_0's auc: 0.936749\n",
      "[157]\tvalid_0's auc: 0.936588\n",
      "[158]\tvalid_0's auc: 0.936507\n",
      "[159]\tvalid_0's auc: 0.936454\n",
      "[160]\tvalid_0's auc: 0.936343\n",
      "[161]\tvalid_0's auc: 0.936238\n",
      "[162]\tvalid_0's auc: 0.93607\n",
      "[163]\tvalid_0's auc: 0.93597\n",
      "[164]\tvalid_0's auc: 0.936096\n",
      "[165]\tvalid_0's auc: 0.936005\n",
      "[166]\tvalid_0's auc: 0.936176\n",
      "[167]\tvalid_0's auc: 0.93636\n",
      "[168]\tvalid_0's auc: 0.936731\n",
      "[169]\tvalid_0's auc: 0.936745\n",
      "[170]\tvalid_0's auc: 0.936612\n",
      "[171]\tvalid_0's auc: 0.936467\n",
      "[172]\tvalid_0's auc: 0.93647\n",
      "[173]\tvalid_0's auc: 0.936263\n",
      "[174]\tvalid_0's auc: 0.936552\n",
      "[175]\tvalid_0's auc: 0.936505\n",
      "[176]\tvalid_0's auc: 0.936547\n",
      "[177]\tvalid_0's auc: 0.936471\n",
      "[178]\tvalid_0's auc: 0.936483\n",
      "[179]\tvalid_0's auc: 0.936365\n",
      "[180]\tvalid_0's auc: 0.936373\n",
      "[181]\tvalid_0's auc: 0.936419\n",
      "[182]\tvalid_0's auc: 0.936249\n",
      "[183]\tvalid_0's auc: 0.936269\n",
      "[184]\tvalid_0's auc: 0.936232\n",
      "[185]\tvalid_0's auc: 0.936271\n",
      "[186]\tvalid_0's auc: 0.936266\n",
      "[187]\tvalid_0's auc: 0.936357\n",
      "[188]\tvalid_0's auc: 0.936414\n",
      "[189]\tvalid_0's auc: 0.93649\n",
      "[190]\tvalid_0's auc: 0.936521\n",
      "[191]\tvalid_0's auc: 0.93662\n",
      "[192]\tvalid_0's auc: 0.936647\n",
      "[193]\tvalid_0's auc: 0.936639\n",
      "[194]\tvalid_0's auc: 0.936652\n",
      "[195]\tvalid_0's auc: 0.936671\n",
      "[196]\tvalid_0's auc: 0.936807\n",
      "[197]\tvalid_0's auc: 0.936699\n",
      "[198]\tvalid_0's auc: 0.936646\n",
      "[199]\tvalid_0's auc: 0.936598\n",
      "[200]\tvalid_0's auc: 0.937194\n",
      "Did not meet early stopping. Best iteration is:\n",
      "[13]\tvalid_0's auc: 0.940588\n",
      "Saving model...\n",
      "Starting predicting...\n"
     ]
    }
   ],
   "source": [
    "import lightgbm as lgb\n",
    "\n",
    "print('Loading data...')\n",
    "# load or create your dataset\n",
    "\n",
    "# create dataset for lightgbm\n",
    "lgb_train = lgb.Dataset(X_train, y_train)\n",
    "lgb_eval = lgb.Dataset(X_test, y_test, reference=lgb_train)\n",
    "\n",
    "# specify your configurations as a dict\n",
    "params = {\n",
    "    'boosting_type': 'gbdt',\n",
    "    'objective': 'binary',\n",
    "    'metric': 'auc',\n",
    "    'num_leaves': 31,\n",
    "    'n_estimators' : 200,\n",
    "    'learning_rate': 0.1,\n",
    "    'feature_fraction': 0.9,\n",
    "    'bagging_fraction': 0.8,\n",
    "    'bagging_freq': 5,\n",
    "    'verbose': 0\n",
    "}\n",
    "\n",
    "print('Starting training...')\n",
    "# train\n",
    "gbm = lgb.train(params,\n",
    "                lgb_train,\n",
    "                num_boost_round=5000,\n",
    "                valid_sets=lgb_eval,\n",
    "                early_stopping_rounds=500)\n",
    "\n",
    "print('Saving model...')\n",
    "# save model to file\n",
    "#gbm.save_model('model.txt')\n",
    "\n",
    "print('Starting predicting...')\n",
    "# predict\n",
    "y_pred = gbm.predict(X_test, num_iteration=gbm.best_iteration)\n"
   ]
  },
  {
   "cell_type": "code",
   "execution_count": 147,
   "metadata": {},
   "outputs": [
    {
     "data": {
      "text/plain": [
       "0.49502899751449875"
      ]
     },
     "execution_count": 147,
     "metadata": {},
     "output_type": "execute_result"
    }
   ],
   "source": [
    "fbeta_sklearn = fbeta_score(y_test, y_pred.round(), beta=2)\n",
    "fbeta_sklearn"
   ]
  },
  {
   "cell_type": "code",
   "execution_count": 148,
   "metadata": {},
   "outputs": [
    {
     "data": {
      "text/plain": [
       "((459,), (531,))"
      ]
     },
     "execution_count": 148,
     "metadata": {},
     "output_type": "execute_result"
    }
   ],
   "source": [
    "y_pred[y_pred>0.205].shape, y_test[y_test>0.13].shape"
   ]
  },
  {
   "cell_type": "code",
   "execution_count": 149,
   "metadata": {},
   "outputs": [],
   "source": [
    "y_pred[y_pred>0.205] = 1"
   ]
  },
  {
   "cell_type": "code",
   "execution_count": 150,
   "metadata": {},
   "outputs": [],
   "source": [
    "y_pred[y_pred<0.205] = 0"
   ]
  },
  {
   "cell_type": "code",
   "execution_count": 168,
   "metadata": {},
   "outputs": [
    {
     "data": {
      "text/plain": [
       "0.5749128919860627"
      ]
     },
     "execution_count": 168,
     "metadata": {},
     "output_type": "execute_result"
    }
   ],
   "source": [
    "fbeta_sklearn = fbeta_score(y_test, y_pred, beta=2)\n",
    "fbeta_sklearn"
   ]
  },
  {
   "cell_type": "code",
   "execution_count": 152,
   "metadata": {},
   "outputs": [],
   "source": [
    "from sklearn.metrics import confusion_matrix\n",
    "\n",
    "cm = confusion_matrix(y_test, y_pred)\n",
    "tn, fp, fn, tp = cm.ravel()"
   ]
  },
  {
   "cell_type": "code",
   "execution_count": 153,
   "metadata": {
    "scrolled": true
   },
   "outputs": [
    {
     "data": {
      "text/plain": [
       "array([[31307,   162],\n",
       "       [  234,   297]], dtype=int64)"
      ]
     },
     "execution_count": 153,
     "metadata": {},
     "output_type": "execute_result"
    }
   ],
   "source": [
    "cm"
   ]
  },
  {
   "cell_type": "code",
   "execution_count": 154,
   "metadata": {},
   "outputs": [],
   "source": [
    "from sklearn.metrics import roc_auc_score "
   ]
  },
  {
   "cell_type": "code",
   "execution_count": 155,
   "metadata": {},
   "outputs": [
    {
     "data": {
      "text/plain": [
       "0.7770870552725819"
      ]
     },
     "execution_count": 155,
     "metadata": {},
     "output_type": "execute_result"
    }
   ],
   "source": [
    "roc_auc_score(y_test, y_pred)\n"
   ]
  },
  {
   "cell_type": "code",
   "execution_count": 156,
   "metadata": {},
   "outputs": [
    {
     "name": "stdout",
     "output_type": "stream",
     "text": [
      "Fitting 4 folds for each of 192 candidates, totalling 768 fits\n"
     ]
    },
    {
     "name": "stderr",
     "output_type": "stream",
     "text": [
      "[Parallel(n_jobs=-1)]: Done  25 tasks      | elapsed:   10.5s\n",
      "[Parallel(n_jobs=-1)]: Done 146 tasks      | elapsed:   34.8s\n",
      "[Parallel(n_jobs=-1)]: Done 349 tasks      | elapsed:  1.1min\n",
      "[Parallel(n_jobs=-1)]: Done 632 tasks      | elapsed:  2.3min\n",
      "[Parallel(n_jobs=-1)]: Done 768 out of 768 | elapsed:  2.9min finished\n"
     ]
    },
    {
     "name": "stdout",
     "output_type": "stream",
     "text": [
      "{'boosting_type': 'gbdt', 'colsample_bytree': 0.64, 'learning_rate': 0.05, 'n_estimators': 16, 'num_leaves': 27, 'objective': 'binary', 'random_state': 501, 'subsample': 0.75}\n",
      "0.9890859375\n"
     ]
    }
   ],
   "source": [
    "#Import modules\n",
    "import numpy as np\n",
    "import pandas as pd\n",
    "import seaborn as sns\n",
    "import matplotlib.pyplot as plt\n",
    "import lightgbm as lgb\n",
    "from sklearn.model_selection import train_test_split, GridSearchCV\n",
    "from sklearn.metrics import confusion_matrix,accuracy_score, roc_curve, auc\n",
    "\n",
    "# create dataset for lightgbm\n",
    "lgb_train = lgb.Dataset(X_train, y_train)\n",
    "lgb_eval = lgb.Dataset(X_test, y_test, reference=lgb_train)\n",
    "\n",
    "#Define 'y' labels\n",
    "train_y = y_train\n",
    "test_y = y_test\n",
    "\n",
    "#Define 'x' sets\n",
    "train_x = X_train\n",
    "test_x = X_test\n",
    "\n",
    "#Select Hyper-Parameters\n",
    "params = {'boosting_type': 'gbdt',\n",
    "          'max_depth' : -1,\n",
    "          'objective': 'binary',\n",
    "          'nthread': -1,\n",
    "          'num_leaves': 64,\n",
    "          'learning_rate': 0.07,\n",
    "          'max_bin': 512,\n",
    "          'subsample_for_bin': 200,\n",
    "          'subsample': 1,\n",
    "          'subsample_freq': 1,\n",
    "          'colsample_bytree': 0.8,\n",
    "          'reg_alpha': 1.2,\n",
    "          'reg_lambda': 1.2,\n",
    "          'min_split_gain': 0.5,\n",
    "          'min_child_weight': 1,\n",
    "          'min_child_samples': 5,\n",
    "          'scale_pos_weight': scale_pos_weight,\n",
    "          'num_class' : 1,\n",
    "          'metric' : 'auc'\n",
    "          }\n",
    "\n",
    "gridParams = {\n",
    "    'learning_rate': [0.07,0.1,0.05],\n",
    "    'n_estimators': [8,16,64,128],\n",
    "    'num_leaves': [20, 24, 27,32],\n",
    "    'boosting_type' : ['gbdt'],\n",
    "    'objective' : ['binary'],\n",
    "    'random_state' : [501], \n",
    "    'colsample_bytree' : [0.64, 0.65],\n",
    "    'subsample' : [0.7,0.75]\n",
    "    }\n",
    "\n",
    "mdl = lgb.LGBMClassifier(boosting_type= 'gbdt',\n",
    "          objective = 'binary',\n",
    "          n_jobs = 5, \n",
    "          silent = True,\n",
    "          max_depth = params['max_depth'],\n",
    "          max_bin = params['max_bin'],\n",
    "          subsample_for_bin = params['subsample_for_bin'],\n",
    "          subsample = params['subsample'],\n",
    "          subsample_freq = params['subsample_freq'],\n",
    "          min_split_gain = params['min_split_gain'],\n",
    "          min_child_weight = params['min_child_weight'],\n",
    "          min_child_samples = params['min_child_samples'],\n",
    "          scale_pos_weight = params['scale_pos_weight'])\n",
    "\n",
    "mdl.get_params().keys()\n",
    "\n",
    "grid = GridSearchCV(mdl, gridParams, verbose=2, cv=4, n_jobs=-1)\n",
    "grid.fit(train_x, train_y)\n",
    "\n",
    "print(grid.best_params_)\n",
    "print(grid.best_score_)\n",
    "\n",
    "params['colsample_bytree'] = grid.best_params_['colsample_bytree']\n",
    "params['learning_rate'] = grid.best_params_['learning_rate']\n",
    "params['num_leaves'] = grid.best_params_['num_leaves']\n",
    "params['subsample'] = grid.best_params_['subsample']"
   ]
  },
  {
   "cell_type": "code",
   "execution_count": 157,
   "metadata": {},
   "outputs": [
    {
     "name": "stdout",
     "output_type": "stream",
     "text": [
      "Fitting with params: \n",
      "{'boosting_type': 'gbdt', 'max_depth': -1, 'objective': 'binary', 'nthread': -1, 'num_leaves': 27, 'learning_rate': 0.05, 'max_bin': 512, 'subsample_for_bin': 200, 'subsample': 0.75, 'subsample_freq': 1, 'colsample_bytree': 0.64, 'reg_alpha': 1.2, 'reg_lambda': 1.2, 'min_split_gain': 0.5, 'min_child_weight': 1, 'min_child_samples': 5, 'scale_pos_weight': 7.963180164060198, 'num_class': 1, 'metric': 'auc'}\n"
     ]
    }
   ],
   "source": [
    "print('Fitting with params: ')\n",
    "print(params)"
   ]
  },
  {
   "cell_type": "code",
   "execution_count": 158,
   "metadata": {},
   "outputs": [
    {
     "name": "stdout",
     "output_type": "stream",
     "text": [
      "Training until validation scores don't improve for 100 rounds.\n",
      "[4]\tvalid_0's auc: 0.923137\n",
      "[8]\tvalid_0's auc: 0.93055\n",
      "Did not meet early stopping. Best iteration is:\n",
      "[9]\tvalid_0's auc: 0.931906\n"
     ]
    }
   ],
   "source": [
    "lgbm = lgb.train(params,\n",
    "                 lgb_train,\n",
    "                 \n",
    "                 10,\n",
    "                 lgb_eval,\n",
    "                 early_stopping_rounds= 100,\n",
    "                 verbose_eval= 4\n",
    "                 )"
   ]
  },
  {
   "cell_type": "code",
   "execution_count": 170,
   "metadata": {},
   "outputs": [
    {
     "name": "stdout",
     "output_type": "stream",
     "text": [
      "Overall accuracy of Light GBM model: 0.97928125\n"
     ]
    },
    {
     "data": {
      "image/png": "[encoded data removed]",
      "text/plain": [
       "<Figure size 432x288 with 1 Axes>"
      ]
     },
     "metadata": {
      "needs_background": "light"
     },
     "output_type": "display_data"
    },
    {
     "data": {
      "image/png": "[encoded data removed]",
      "text/plain": [
       "<Figure size 432x288 with 1 Axes>"
      ]
     },
     "metadata": {
      "needs_background": "light"
     },
     "output_type": "display_data"
    },
    {
     "name": "stdout",
     "output_type": "stream",
     "text": [
      "AUC score: 0.9319061134447383\n",
      "FBeta score: 0.5763983628922238\n"
     ]
    },
    {
     "data": {
      "text/plain": [
       "<Figure size 432x288 with 0 Axes>"
      ]
     },
     "metadata": {},
     "output_type": "display_data"
    },
    {
     "data": {
      "image/png": "[encoded data removed]",
      "text/plain": [
       "<Figure size 576x432 with 2 Axes>"
      ]
     },
     "metadata": {
      "needs_background": "light"
     },
     "output_type": "display_data"
    }
   ],
   "source": [
    "#Predict on test set\n",
    "predictions_lgbm_prob = lgbm.predict(test_x)\n",
    "predictions_lgbm_01 = np.where(predictions_lgbm_prob > 0.15, 1, 0) #Turn probability to 0-1 binary output\n",
    "\n",
    "#--------------------------Print accuracy measures and variable importances----------------------\n",
    "#Plot Variable Importances\n",
    "lgb.plot_importance(lgbm, max_num_features=21, importance_type='split')\n",
    "\n",
    "#Print accuracy\n",
    "acc_lgbm = accuracy_score(test_y,predictions_lgbm_01)\n",
    "print('Overall accuracy of Light GBM model:', acc_lgbm)\n",
    "\n",
    "#Print Area Under Curve\n",
    "plt.figure()\n",
    "false_positive_rate, recall, thresholds = roc_curve(test_y, predictions_lgbm_prob)\n",
    "roc_auc = auc(false_positive_rate, recall)\n",
    "plt.title('Receiver Operating Characteristic (ROC)')\n",
    "plt.plot(false_positive_rate, recall, 'b', label = 'AUC = %0.3f' %roc_auc)\n",
    "plt.legend(loc='lower right')\n",
    "plt.plot([0,1], [0,1], 'r--')\n",
    "plt.xlim([0.0,1.0])\n",
    "plt.ylim([0.0,1.0])\n",
    "plt.ylabel('Recall')\n",
    "plt.xlabel('Fall-out (1-Specificity)')\n",
    "plt.show()\n",
    "\n",
    "print('AUC score:', roc_auc)\n",
    "print('FBeta score:', fbeta_score(test_y, predictions_lgbm_01, beta=2))\n",
    "\n",
    "\n",
    "#Print Confusion Matrix\n",
    "plt.figure()\n",
    "cm = confusion_matrix(test_y, predictions_lgbm_01)\n",
    "labels = ['No Default', 'Default']\n",
    "plt.figure(figsize=(8,6))\n",
    "sns.heatmap(cm, xticklabels = labels, yticklabels = labels, annot = True, fmt='d', cmap=\"Blues\", vmin = 0.2);\n",
    "plt.title('Confusion Matrix')\n",
    "plt.ylabel('True Class')\n",
    "plt.xlabel('Predicted Class')\n",
    "plt.show()"
   ]
  },
  {
   "cell_type": "markdown",
   "metadata": {},
   "source": [
    "## Catboost"
   ]
  },
  {
   "cell_type": "code",
   "execution_count": 160,
   "metadata": {},
   "outputs": [],
   "source": [
    "# Create CatBoost as Model\n",
    "from catboost import Pool, CatBoostClassifier\n",
    "\n",
    "model = CatBoostClassifier(loss_function= \"Logloss\", \n",
    "                             eval_metric= \"AUC\", \n",
    "                             task_type= \"GPU\",\n",
    "                             learning_rate = 0.1, \n",
    "                             iterations = 200, \n",
    "                             l2_leaf_reg = 4,\n",
    "                             random_seed= 42, \n",
    "                             od_type=\"Iter\",\n",
    "                             depth= 12, \n",
    "                             silent = False)"
   ]
  },
  {
   "cell_type": "code",
   "execution_count": 161,
   "metadata": {},
   "outputs": [
    {
     "name": "stdout",
     "output_type": "stream",
     "text": [
      "0:\tlearn: 0.7635989\ttotal: 20.3ms\tremaining: 4.04s\n",
      "1:\tlearn: 0.7955855\ttotal: 37.1ms\tremaining: 3.67s\n",
      "2:\tlearn: 0.9000390\ttotal: 106ms\tremaining: 6.97s\n",
      "3:\tlearn: 0.9057205\ttotal: 126ms\tremaining: 6.2s\n",
      "4:\tlearn: 0.9147517\ttotal: 190ms\tremaining: 7.39s\n",
      "5:\tlearn: 0.9217396\ttotal: 257ms\tremaining: 8.32s\n",
      "6:\tlearn: 0.9228734\ttotal: 317ms\tremaining: 8.75s\n",
      "7:\tlearn: 0.9234236\ttotal: 373ms\tremaining: 8.96s\n",
      "8:\tlearn: 0.9247951\ttotal: 430ms\tremaining: 9.12s\n",
      "9:\tlearn: 0.9269194\ttotal: 486ms\tremaining: 9.23s\n",
      "10:\tlearn: 0.9333856\ttotal: 543ms\tremaining: 9.34s\n",
      "11:\tlearn: 0.9346024\ttotal: 596ms\tremaining: 9.33s\n",
      "12:\tlearn: 0.9407453\ttotal: 649ms\tremaining: 9.33s\n",
      "13:\tlearn: 0.9425103\ttotal: 704ms\tremaining: 9.35s\n",
      "14:\tlearn: 0.9437014\ttotal: 755ms\tremaining: 9.31s\n",
      "15:\tlearn: 0.9451961\ttotal: 808ms\tremaining: 9.29s\n",
      "16:\tlearn: 0.9470233\ttotal: 861ms\tremaining: 9.27s\n",
      "17:\tlearn: 0.9481416\ttotal: 915ms\tremaining: 9.25s\n",
      "18:\tlearn: 0.9497065\ttotal: 975ms\tremaining: 9.29s\n",
      "19:\tlearn: 0.9501005\ttotal: 1.03s\tremaining: 9.29s\n",
      "20:\tlearn: 0.9510832\ttotal: 1.08s\tremaining: 9.25s\n",
      "21:\tlearn: 0.9519691\ttotal: 1.14s\tremaining: 9.22s\n",
      "22:\tlearn: 0.9525826\ttotal: 1.2s\tremaining: 9.22s\n",
      "23:\tlearn: 0.9539644\ttotal: 1.25s\tremaining: 9.18s\n",
      "24:\tlearn: 0.9548574\ttotal: 1.3s\tremaining: 9.14s\n",
      "25:\tlearn: 0.9555226\ttotal: 1.36s\tremaining: 9.09s\n",
      "26:\tlearn: 0.9569271\ttotal: 1.41s\tremaining: 9.05s\n",
      "27:\tlearn: 0.9584440\ttotal: 1.47s\tremaining: 9.02s\n",
      "28:\tlearn: 0.9593119\ttotal: 1.52s\tremaining: 8.98s\n",
      "29:\tlearn: 0.9600008\ttotal: 1.58s\tremaining: 8.95s\n",
      "30:\tlearn: 0.9607534\ttotal: 1.64s\tremaining: 8.93s\n",
      "31:\tlearn: 0.9619338\ttotal: 1.7s\tremaining: 8.91s\n",
      "32:\tlearn: 0.9626622\ttotal: 1.75s\tremaining: 8.88s\n",
      "33:\tlearn: 0.9631428\ttotal: 1.81s\tremaining: 8.83s\n",
      "34:\tlearn: 0.9635789\ttotal: 1.86s\tremaining: 8.77s\n",
      "35:\tlearn: 0.9640273\ttotal: 1.92s\tremaining: 8.73s\n",
      "36:\tlearn: 0.9646083\ttotal: 1.97s\tremaining: 8.68s\n",
      "37:\tlearn: 0.9650399\ttotal: 2.03s\tremaining: 8.65s\n",
      "38:\tlearn: 0.9655105\ttotal: 2.09s\tremaining: 8.63s\n",
      "39:\tlearn: 0.9661633\ttotal: 2.15s\tremaining: 8.58s\n",
      "40:\tlearn: 0.9664877\ttotal: 2.2s\tremaining: 8.54s\n",
      "41:\tlearn: 0.9668524\ttotal: 2.25s\tremaining: 8.48s\n",
      "42:\tlearn: 0.9673234\ttotal: 2.31s\tremaining: 8.43s\n",
      "43:\tlearn: 0.9676799\ttotal: 2.36s\tremaining: 8.37s\n",
      "44:\tlearn: 0.9681231\ttotal: 2.42s\tremaining: 8.32s\n",
      "45:\tlearn: 0.9683181\ttotal: 2.47s\tremaining: 8.27s\n",
      "46:\tlearn: 0.9688626\ttotal: 2.52s\tremaining: 8.22s\n",
      "47:\tlearn: 0.9690924\ttotal: 2.58s\tremaining: 8.17s\n",
      "48:\tlearn: 0.9693940\ttotal: 2.63s\tremaining: 8.11s\n",
      "49:\tlearn: 0.9696476\ttotal: 2.69s\tremaining: 8.06s\n",
      "50:\tlearn: 0.9698808\ttotal: 2.74s\tremaining: 8.01s\n",
      "51:\tlearn: 0.9701417\ttotal: 2.8s\tremaining: 7.96s\n",
      "52:\tlearn: 0.9704869\ttotal: 2.85s\tremaining: 7.9s\n",
      "53:\tlearn: 0.9708005\ttotal: 2.9s\tremaining: 7.85s\n",
      "54:\tlearn: 0.9714499\ttotal: 2.96s\tremaining: 7.79s\n",
      "55:\tlearn: 0.9717515\ttotal: 3.01s\tremaining: 7.74s\n",
      "56:\tlearn: 0.9720030\ttotal: 3.06s\tremaining: 7.68s\n",
      "57:\tlearn: 0.9721895\ttotal: 3.11s\tremaining: 7.62s\n",
      "58:\tlearn: 0.9725787\ttotal: 3.17s\tremaining: 7.57s\n",
      "59:\tlearn: 0.9728854\ttotal: 3.22s\tremaining: 7.52s\n",
      "60:\tlearn: 0.9731127\ttotal: 3.27s\tremaining: 7.46s\n",
      "61:\tlearn: 0.9732325\ttotal: 3.33s\tremaining: 7.4s\n",
      "62:\tlearn: 0.9734093\ttotal: 3.38s\tremaining: 7.35s\n",
      "63:\tlearn: 0.9739444\ttotal: 3.43s\tremaining: 7.3s\n",
      "64:\tlearn: 0.9743021\ttotal: 3.49s\tremaining: 7.25s\n",
      "65:\tlearn: 0.9744244\ttotal: 3.55s\tremaining: 7.2s\n",
      "66:\tlearn: 0.9747049\ttotal: 3.6s\tremaining: 7.16s\n",
      "67:\tlearn: 0.9749234\ttotal: 3.66s\tremaining: 7.11s\n",
      "68:\tlearn: 0.9750571\ttotal: 3.72s\tremaining: 7.06s\n",
      "69:\tlearn: 0.9753433\ttotal: 3.77s\tremaining: 7s\n",
      "70:\tlearn: 0.9754794\ttotal: 3.82s\tremaining: 6.95s\n",
      "71:\tlearn: 0.9757073\ttotal: 3.88s\tremaining: 6.89s\n",
      "72:\tlearn: 0.9759228\ttotal: 3.93s\tremaining: 6.83s\n",
      "73:\tlearn: 0.9761084\ttotal: 3.98s\tremaining: 6.77s\n",
      "74:\tlearn: 0.9762716\ttotal: 4.03s\tremaining: 6.72s\n",
      "75:\tlearn: 0.9763823\ttotal: 4.08s\tremaining: 6.67s\n",
      "76:\tlearn: 0.9766114\ttotal: 4.14s\tremaining: 6.61s\n",
      "77:\tlearn: 0.9768530\ttotal: 4.2s\tremaining: 6.56s\n",
      "78:\tlearn: 0.9769706\ttotal: 4.25s\tremaining: 6.51s\n",
      "79:\tlearn: 0.9772117\ttotal: 4.31s\tremaining: 6.46s\n",
      "80:\tlearn: 0.9773131\ttotal: 4.36s\tremaining: 6.4s\n",
      "81:\tlearn: 0.9774667\ttotal: 4.42s\tremaining: 6.35s\n",
      "82:\tlearn: 0.9777227\ttotal: 4.47s\tremaining: 6.3s\n",
      "83:\tlearn: 0.9779004\ttotal: 4.52s\tremaining: 6.24s\n",
      "84:\tlearn: 0.9779165\ttotal: 4.53s\tremaining: 6.13s\n",
      "85:\tlearn: 0.9780010\ttotal: 4.58s\tremaining: 6.07s\n",
      "86:\tlearn: 0.9781522\ttotal: 4.63s\tremaining: 6.01s\n",
      "87:\tlearn: 0.9781846\ttotal: 4.69s\tremaining: 5.96s\n",
      "88:\tlearn: 0.9783602\ttotal: 4.74s\tremaining: 5.91s\n",
      "89:\tlearn: 0.9785014\ttotal: 4.79s\tremaining: 5.85s\n",
      "90:\tlearn: 0.9786638\ttotal: 4.84s\tremaining: 5.8s\n",
      "91:\tlearn: 0.9787579\ttotal: 4.9s\tremaining: 5.75s\n",
      "92:\tlearn: 0.9788331\ttotal: 4.96s\tremaining: 5.7s\n",
      "93:\tlearn: 0.9789387\ttotal: 5.01s\tremaining: 5.65s\n",
      "94:\tlearn: 0.9790426\ttotal: 5.06s\tremaining: 5.59s\n",
      "95:\tlearn: 0.9791662\ttotal: 5.12s\tremaining: 5.54s\n",
      "96:\tlearn: 0.9793364\ttotal: 5.17s\tremaining: 5.49s\n",
      "97:\tlearn: 0.9796396\ttotal: 5.22s\tremaining: 5.44s\n",
      "98:\tlearn: 0.9799007\ttotal: 5.28s\tremaining: 5.39s\n",
      "99:\tlearn: 0.9800480\ttotal: 5.34s\tremaining: 5.34s\n",
      "100:\tlearn: 0.9801418\ttotal: 5.4s\tremaining: 5.29s\n",
      "101:\tlearn: 0.9804033\ttotal: 5.46s\tremaining: 5.24s\n",
      "102:\tlearn: 0.9804971\ttotal: 5.51s\tremaining: 5.19s\n",
      "103:\tlearn: 0.9807283\ttotal: 5.57s\tremaining: 5.14s\n",
      "104:\tlearn: 0.9808403\ttotal: 5.62s\tremaining: 5.08s\n",
      "105:\tlearn: 0.9808656\ttotal: 5.68s\tremaining: 5.03s\n",
      "106:\tlearn: 0.9809507\ttotal: 5.73s\tremaining: 4.98s\n",
      "107:\tlearn: 0.9809987\ttotal: 5.79s\tremaining: 4.93s\n",
      "108:\tlearn: 0.9811125\ttotal: 5.84s\tremaining: 4.87s\n",
      "109:\tlearn: 0.9812983\ttotal: 5.89s\tremaining: 4.82s\n",
      "110:\tlearn: 0.9814861\ttotal: 5.95s\tremaining: 4.77s\n",
      "111:\tlearn: 0.9815700\ttotal: 6s\tremaining: 4.71s\n",
      "112:\tlearn: 0.9818881\ttotal: 6.06s\tremaining: 4.66s\n",
      "113:\tlearn: 0.9819803\ttotal: 6.11s\tremaining: 4.61s\n",
      "114:\tlearn: 0.9820590\ttotal: 6.16s\tremaining: 4.55s\n",
      "115:\tlearn: 0.9821395\ttotal: 6.22s\tremaining: 4.5s\n",
      "116:\tlearn: 0.9822734\ttotal: 6.28s\tremaining: 4.45s\n",
      "117:\tlearn: 0.9823652\ttotal: 6.33s\tremaining: 4.4s\n",
      "118:\tlearn: 0.9824532\ttotal: 6.39s\tremaining: 4.35s\n",
      "119:\tlearn: 0.9825269\ttotal: 6.45s\tremaining: 4.3s\n",
      "120:\tlearn: 0.9827189\ttotal: 6.51s\tremaining: 4.25s\n",
      "121:\tlearn: 0.9828361\ttotal: 6.57s\tremaining: 4.2s\n",
      "122:\tlearn: 0.9829659\ttotal: 6.62s\tremaining: 4.15s\n",
      "123:\tlearn: 0.9830573\ttotal: 6.68s\tremaining: 4.09s\n",
      "124:\tlearn: 0.9832518\ttotal: 6.73s\tremaining: 4.04s\n",
      "125:\tlearn: 0.9833805\ttotal: 6.78s\tremaining: 3.98s\n",
      "126:\tlearn: 0.9835245\ttotal: 6.84s\tremaining: 3.93s\n",
      "127:\tlearn: 0.9835832\ttotal: 6.89s\tremaining: 3.88s\n",
      "128:\tlearn: 0.9837205\ttotal: 6.95s\tremaining: 3.83s\n",
      "129:\tlearn: 0.9837695\ttotal: 7s\tremaining: 3.77s\n",
      "130:\tlearn: 0.9839492\ttotal: 7.05s\tremaining: 3.71s\n",
      "131:\tlearn: 0.9840231\ttotal: 7.11s\tremaining: 3.66s\n",
      "132:\tlearn: 0.9841373\ttotal: 7.16s\tremaining: 3.61s\n",
      "133:\tlearn: 0.9843896\ttotal: 7.22s\tremaining: 3.56s\n",
      "134:\tlearn: 0.9844786\ttotal: 7.27s\tremaining: 3.5s\n",
      "135:\tlearn: 0.9845307\ttotal: 7.33s\tremaining: 3.45s\n",
      "136:\tlearn: 0.9845602\ttotal: 7.39s\tremaining: 3.4s\n",
      "137:\tlearn: 0.9846924\ttotal: 7.44s\tremaining: 3.34s\n",
      "138:\tlearn: 0.9847497\ttotal: 7.49s\tremaining: 3.29s\n",
      "139:\tlearn: 0.9848116\ttotal: 7.55s\tremaining: 3.23s\n",
      "140:\tlearn: 0.9848736\ttotal: 7.6s\tremaining: 3.18s\n",
      "141:\tlearn: 0.9850067\ttotal: 7.65s\tremaining: 3.12s\n",
      "142:\tlearn: 0.9851379\ttotal: 7.7s\tremaining: 3.07s\n",
      "143:\tlearn: 0.9852076\ttotal: 7.76s\tremaining: 3.02s\n",
      "144:\tlearn: 0.9852447\ttotal: 7.81s\tremaining: 2.96s\n",
      "145:\tlearn: 0.9852759\ttotal: 7.87s\tremaining: 2.91s\n",
      "146:\tlearn: 0.9854230\ttotal: 7.92s\tremaining: 2.85s\n",
      "147:\tlearn: 0.9854709\ttotal: 7.97s\tremaining: 2.8s\n",
      "148:\tlearn: 0.9855848\ttotal: 8.03s\tremaining: 2.75s\n",
      "149:\tlearn: 0.9856900\ttotal: 8.08s\tremaining: 2.69s\n",
      "150:\tlearn: 0.9859076\ttotal: 8.13s\tremaining: 2.64s\n",
      "151:\tlearn: 0.9859688\ttotal: 8.19s\tremaining: 2.59s\n",
      "152:\tlearn: 0.9860883\ttotal: 8.24s\tremaining: 2.53s\n",
      "153:\tlearn: 0.9861347\ttotal: 8.3s\tremaining: 2.48s\n",
      "154:\tlearn: 0.9861850\ttotal: 8.36s\tremaining: 2.43s\n",
      "155:\tlearn: 0.9862770\ttotal: 8.41s\tremaining: 2.37s\n",
      "156:\tlearn: 0.9863324\ttotal: 8.47s\tremaining: 2.32s\n",
      "157:\tlearn: 0.9863885\ttotal: 8.53s\tremaining: 2.27s\n",
      "158:\tlearn: 0.9864286\ttotal: 8.59s\tremaining: 2.21s\n",
      "159:\tlearn: 0.9864736\ttotal: 8.64s\tremaining: 2.16s\n",
      "160:\tlearn: 0.9865483\ttotal: 8.69s\tremaining: 2.11s\n",
      "161:\tlearn: 0.9865774\ttotal: 8.75s\tremaining: 2.05s\n",
      "162:\tlearn: 0.9866498\ttotal: 8.8s\tremaining: 2s\n",
      "163:\tlearn: 0.9867617\ttotal: 8.86s\tremaining: 1.94s\n",
      "164:\tlearn: 0.9868233\ttotal: 8.91s\tremaining: 1.89s\n",
      "165:\tlearn: 0.9868599\ttotal: 8.96s\tremaining: 1.83s\n",
      "166:\tlearn: 0.9869203\ttotal: 9.02s\tremaining: 1.78s\n",
      "167:\tlearn: 0.9870028\ttotal: 9.07s\tremaining: 1.73s\n",
      "168:\tlearn: 0.9870405\ttotal: 9.13s\tremaining: 1.67s\n",
      "169:\tlearn: 0.9870923\ttotal: 9.18s\tremaining: 1.62s\n",
      "170:\tlearn: 0.9871446\ttotal: 9.23s\tremaining: 1.56s\n",
      "171:\tlearn: 0.9871986\ttotal: 9.29s\tremaining: 1.51s\n",
      "172:\tlearn: 0.9873466\ttotal: 9.34s\tremaining: 1.46s\n",
      "173:\tlearn: 0.9873981\ttotal: 9.39s\tremaining: 1.4s\n",
      "174:\tlearn: 0.9874802\ttotal: 9.45s\tremaining: 1.35s\n",
      "175:\tlearn: 0.9875049\ttotal: 9.5s\tremaining: 1.29s\n",
      "176:\tlearn: 0.9875882\ttotal: 9.55s\tremaining: 1.24s\n",
      "177:\tlearn: 0.9876454\ttotal: 9.6s\tremaining: 1.19s\n",
      "178:\tlearn: 0.9876819\ttotal: 9.65s\tremaining: 1.13s\n",
      "179:\tlearn: 0.9877800\ttotal: 9.71s\tremaining: 1.08s\n",
      "180:\tlearn: 0.9878059\ttotal: 9.76s\tremaining: 1.02s\n",
      "181:\tlearn: 0.9878466\ttotal: 9.81s\tremaining: 971ms\n",
      "182:\tlearn: 0.9879028\ttotal: 9.87s\tremaining: 916ms\n",
      "183:\tlearn: 0.9879347\ttotal: 9.92s\tremaining: 862ms\n",
      "184:\tlearn: 0.9879842\ttotal: 9.97s\tremaining: 808ms\n",
      "185:\tlearn: 0.9880335\ttotal: 10s\tremaining: 754ms\n",
      "186:\tlearn: 0.9880693\ttotal: 10.1s\tremaining: 700ms\n",
      "187:\tlearn: 0.9881083\ttotal: 10.1s\tremaining: 646ms\n",
      "188:\tlearn: 0.9881651\ttotal: 10.2s\tremaining: 593ms\n",
      "189:\tlearn: 0.9881957\ttotal: 10.2s\tremaining: 538ms\n",
      "190:\tlearn: 0.9883252\ttotal: 10.3s\tremaining: 485ms\n",
      "191:\tlearn: 0.9883512\ttotal: 10.3s\tremaining: 431ms\n",
      "192:\tlearn: 0.9883648\ttotal: 10.4s\tremaining: 377ms\n",
      "193:\tlearn: 0.9884209\ttotal: 10.4s\tremaining: 323ms\n",
      "194:\tlearn: 0.9884907\ttotal: 10.5s\tremaining: 269ms\n",
      "195:\tlearn: 0.9885517\ttotal: 10.6s\tremaining: 216ms\n",
      "196:\tlearn: 0.9886805\ttotal: 10.6s\tremaining: 162ms\n",
      "197:\tlearn: 0.9887153\ttotal: 10.7s\tremaining: 108ms\n",
      "198:\tlearn: 0.9888023\ttotal: 10.7s\tremaining: 53.9ms\n",
      "199:\tlearn: 0.9888398\ttotal: 10.8s\tremaining: 0us\n"
     ]
    },
    {
     "data": {
      "text/plain": [
       "<catboost.core.CatBoostClassifier at 0x19131584ba8>"
      ]
     },
     "execution_count": 161,
     "metadata": {},
     "output_type": "execute_result"
    }
   ],
   "source": [
    "# fit model\n",
    "from sklearn.metrics import roc_auc_score\n",
    "\n",
    "model.fit(X_train, y_train)"
   ]
  },
  {
   "cell_type": "code",
   "execution_count": 162,
   "metadata": {},
   "outputs": [
    {
     "name": "stdout",
     "output_type": "stream",
     "text": [
      "AUC Score (Test):  0.7450318338574794\n"
     ]
    }
   ],
   "source": [
    "pred = model.predict(test_x)\n",
    "auc_score = roc_auc_score(test_y, pred)\n",
    "print(\"AUC Score (Test): \", auc_score)"
   ]
  },
  {
   "cell_type": "code",
   "execution_count": 167,
   "metadata": {},
   "outputs": [
    {
     "data": {
      "text/plain": [
       "0.5368161250514192"
      ]
     },
     "execution_count": 167,
     "metadata": {},
     "output_type": "execute_result"
    }
   ],
   "source": [
    "fbeta_sklearn = fbeta_score(test_y, pred, beta=2)\n",
    "fbeta_sklearn"
   ]
  },
  {
   "cell_type": "code",
   "execution_count": 164,
   "metadata": {},
   "outputs": [
    {
     "data": {
      "text/plain": [
       "307.0"
      ]
     },
     "execution_count": 164,
     "metadata": {},
     "output_type": "execute_result"
    }
   ],
   "source": [
    "sum(pred)"
   ]
  },
  {
   "cell_type": "markdown",
   "metadata": {},
   "source": [
    "## Submission"
   ]
  },
  {
   "cell_type": "code",
   "execution_count": 66,
   "metadata": {},
   "outputs": [],
   "source": [
    "sub = pd.read_csv(\"C:/Users/mbura/Desktop/iyzico/test.csv\")\n",
    "sub = sub.set_index(\"ID\")"
   ]
  },
  {
   "cell_type": "code",
   "execution_count": 183,
   "metadata": {},
   "outputs": [
    {
     "data": {
      "text/html": [
       "<div>\n",
       "<style scoped>\n",
       "    .dataframe tbody tr th:only-of-type {\n",
       "        vertical-align: middle;\n",
       "    }\n",
       "\n",
       "    .dataframe tbody tr th {\n",
       "        vertical-align: top;\n",
       "    }\n",
       "\n",
       "    .dataframe thead th {\n",
       "        text-align: right;\n",
       "    }\n",
       "</style>\n",
       "<table border=\"1\" class=\"dataframe\">\n",
       "  <thead>\n",
       "    <tr style=\"text-align: right;\">\n",
       "      <th></th>\n",
       "      <th>BASKETPAIDPRICE</th>\n",
       "      <th>BASKETINSTALLMENT</th>\n",
       "      <th>BASKETPAYMENTCHANNEL</th>\n",
       "      <th>BASKETPAYMENTSOURCETYPE</th>\n",
       "      <th>BASKETISTHREEDS</th>\n",
       "      <th>BASKETREGISTERCARD</th>\n",
       "      <th>BASKETHASVIRTUALITEM</th>\n",
       "      <th>CARDTYPE</th>\n",
       "      <th>CARDASSOCIATION</th>\n",
       "      <th>EMAIL</th>\n",
       "      <th>CARDBANKID</th>\n",
       "      <th>MERCHANT_ID</th>\n",
       "    </tr>\n",
       "    <tr>\n",
       "      <th>ID</th>\n",
       "      <th></th>\n",
       "      <th></th>\n",
       "      <th></th>\n",
       "      <th></th>\n",
       "      <th></th>\n",
       "      <th></th>\n",
       "      <th></th>\n",
       "      <th></th>\n",
       "      <th></th>\n",
       "      <th></th>\n",
       "      <th></th>\n",
       "      <th></th>\n",
       "    </tr>\n",
       "  </thead>\n",
       "  <tbody>\n",
       "    <tr>\n",
       "      <th>0</th>\n",
       "      <td>-0.030262</td>\n",
       "      <td>1</td>\n",
       "      <td>9</td>\n",
       "      <td>1</td>\n",
       "      <td>0</td>\n",
       "      <td>0</td>\n",
       "      <td>1</td>\n",
       "      <td>1</td>\n",
       "      <td>2</td>\n",
       "      <td>95248</td>\n",
       "      <td>8</td>\n",
       "      <td>163</td>\n",
       "    </tr>\n",
       "    <tr>\n",
       "      <th>1</th>\n",
       "      <td>-0.294324</td>\n",
       "      <td>1</td>\n",
       "      <td>9</td>\n",
       "      <td>1</td>\n",
       "      <td>0</td>\n",
       "      <td>0</td>\n",
       "      <td>1</td>\n",
       "      <td>2</td>\n",
       "      <td>1</td>\n",
       "      <td>1123807</td>\n",
       "      <td>15</td>\n",
       "      <td>6945</td>\n",
       "    </tr>\n",
       "    <tr>\n",
       "      <th>2</th>\n",
       "      <td>0.158812</td>\n",
       "      <td>1</td>\n",
       "      <td>4</td>\n",
       "      <td>3</td>\n",
       "      <td>0</td>\n",
       "      <td>0</td>\n",
       "      <td>0</td>\n",
       "      <td>1</td>\n",
       "      <td>1</td>\n",
       "      <td>878540</td>\n",
       "      <td>7</td>\n",
       "      <td>1232</td>\n",
       "    </tr>\n",
       "    <tr>\n",
       "      <th>3</th>\n",
       "      <td>0.001894</td>\n",
       "      <td>1</td>\n",
       "      <td>1</td>\n",
       "      <td>1</td>\n",
       "      <td>0</td>\n",
       "      <td>0</td>\n",
       "      <td>1</td>\n",
       "      <td>1</td>\n",
       "      <td>1</td>\n",
       "      <td>755894</td>\n",
       "      <td>8</td>\n",
       "      <td>1733</td>\n",
       "    </tr>\n",
       "    <tr>\n",
       "      <th>4</th>\n",
       "      <td>-0.220632</td>\n",
       "      <td>1</td>\n",
       "      <td>9</td>\n",
       "      <td>1</td>\n",
       "      <td>0</td>\n",
       "      <td>0</td>\n",
       "      <td>1</td>\n",
       "      <td>1</td>\n",
       "      <td>2</td>\n",
       "      <td>1123807</td>\n",
       "      <td>9</td>\n",
       "      <td>6945</td>\n",
       "    </tr>\n",
       "    <tr>\n",
       "      <th>...</th>\n",
       "      <td>...</td>\n",
       "      <td>...</td>\n",
       "      <td>...</td>\n",
       "      <td>...</td>\n",
       "      <td>...</td>\n",
       "      <td>...</td>\n",
       "      <td>...</td>\n",
       "      <td>...</td>\n",
       "      <td>...</td>\n",
       "      <td>...</td>\n",
       "      <td>...</td>\n",
       "      <td>...</td>\n",
       "    </tr>\n",
       "    <tr>\n",
       "      <th>39995</th>\n",
       "      <td>0.036707</td>\n",
       "      <td>3</td>\n",
       "      <td>1</td>\n",
       "      <td>3</td>\n",
       "      <td>1</td>\n",
       "      <td>0</td>\n",
       "      <td>0</td>\n",
       "      <td>1</td>\n",
       "      <td>2</td>\n",
       "      <td>452624</td>\n",
       "      <td>12</td>\n",
       "      <td>694</td>\n",
       "    </tr>\n",
       "    <tr>\n",
       "      <th>39996</th>\n",
       "      <td>0.127415</td>\n",
       "      <td>1</td>\n",
       "      <td>1</td>\n",
       "      <td>1</td>\n",
       "      <td>1</td>\n",
       "      <td>0</td>\n",
       "      <td>1</td>\n",
       "      <td>1</td>\n",
       "      <td>1</td>\n",
       "      <td>822951</td>\n",
       "      <td>7</td>\n",
       "      <td>1733</td>\n",
       "    </tr>\n",
       "    <tr>\n",
       "      <th>39997</th>\n",
       "      <td>-0.015301</td>\n",
       "      <td>1</td>\n",
       "      <td>1</td>\n",
       "      <td>1</td>\n",
       "      <td>0</td>\n",
       "      <td>0</td>\n",
       "      <td>0</td>\n",
       "      <td>1</td>\n",
       "      <td>1</td>\n",
       "      <td>1103635</td>\n",
       "      <td>7</td>\n",
       "      <td>31</td>\n",
       "    </tr>\n",
       "    <tr>\n",
       "      <th>39998</th>\n",
       "      <td>-0.253592</td>\n",
       "      <td>1</td>\n",
       "      <td>5</td>\n",
       "      <td>1</td>\n",
       "      <td>0</td>\n",
       "      <td>0</td>\n",
       "      <td>1</td>\n",
       "      <td>1</td>\n",
       "      <td>2</td>\n",
       "      <td>1429491</td>\n",
       "      <td>9</td>\n",
       "      <td>774</td>\n",
       "    </tr>\n",
       "    <tr>\n",
       "      <th>39999</th>\n",
       "      <td>-0.295998</td>\n",
       "      <td>1</td>\n",
       "      <td>9</td>\n",
       "      <td>1</td>\n",
       "      <td>0</td>\n",
       "      <td>0</td>\n",
       "      <td>0</td>\n",
       "      <td>2</td>\n",
       "      <td>1</td>\n",
       "      <td>671845</td>\n",
       "      <td>1</td>\n",
       "      <td>7622</td>\n",
       "    </tr>\n",
       "  </tbody>\n",
       "</table>\n",
       "<p>40000 rows × 12 columns</p>\n",
       "</div>"
      ],
      "text/plain": [
       "       BASKETPAIDPRICE  BASKETINSTALLMENT  BASKETPAYMENTCHANNEL  \\\n",
       "ID                                                                \n",
       "0            -0.030262                  1                     9   \n",
       "1            -0.294324                  1                     9   \n",
       "2             0.158812                  1                     4   \n",
       "3             0.001894                  1                     1   \n",
       "4            -0.220632                  1                     9   \n",
       "...                ...                ...                   ...   \n",
       "39995         0.036707                  3                     1   \n",
       "39996         0.127415                  1                     1   \n",
       "39997        -0.015301                  1                     1   \n",
       "39998        -0.253592                  1                     5   \n",
       "39999        -0.295998                  1                     9   \n",
       "\n",
       "       BASKETPAYMENTSOURCETYPE  BASKETISTHREEDS  BASKETREGISTERCARD  \\\n",
       "ID                                                                    \n",
       "0                            1                0                   0   \n",
       "1                            1                0                   0   \n",
       "2                            3                0                   0   \n",
       "3                            1                0                   0   \n",
       "4                            1                0                   0   \n",
       "...                        ...              ...                 ...   \n",
       "39995                        3                1                   0   \n",
       "39996                        1                1                   0   \n",
       "39997                        1                0                   0   \n",
       "39998                        1                0                   0   \n",
       "39999                        1                0                   0   \n",
       "\n",
       "       BASKETHASVIRTUALITEM  CARDTYPE  CARDASSOCIATION    EMAIL  CARDBANKID  \\\n",
       "ID                                                                            \n",
       "0                         1         1                2    95248           8   \n",
       "1                         1         2                1  1123807          15   \n",
       "2                         0         1                1   878540           7   \n",
       "3                         1         1                1   755894           8   \n",
       "4                         1         1                2  1123807           9   \n",
       "...                     ...       ...              ...      ...         ...   \n",
       "39995                     0         1                2   452624          12   \n",
       "39996                     1         1                1   822951           7   \n",
       "39997                     0         1                1  1103635           7   \n",
       "39998                     1         1                2  1429491           9   \n",
       "39999                     0         2                1   671845           1   \n",
       "\n",
       "       MERCHANT_ID  \n",
       "ID                  \n",
       "0              163  \n",
       "1             6945  \n",
       "2             1232  \n",
       "3             1733  \n",
       "4             6945  \n",
       "...            ...  \n",
       "39995          694  \n",
       "39996         1733  \n",
       "39997           31  \n",
       "39998          774  \n",
       "39999         7622  \n",
       "\n",
       "[40000 rows x 12 columns]"
      ]
     },
     "execution_count": 183,
     "metadata": {},
     "output_type": "execute_result"
    }
   ],
   "source": [
    "sub"
   ]
  },
  {
   "cell_type": "code",
   "execution_count": 190,
   "metadata": {
    "scrolled": true
   },
   "outputs": [],
   "source": [
    "predictions_lgbm_01 = lgbm.predict(sub)\n"
   ]
  },
  {
   "cell_type": "code",
   "execution_count": 191,
   "metadata": {},
   "outputs": [
    {
     "data": {
      "text/plain": [
       "array([0, 0, 0, ..., 0, 0, 0])"
      ]
     },
     "execution_count": 191,
     "metadata": {},
     "output_type": "execute_result"
    }
   ],
   "source": [
    "predictions_lgbm_01 = np.where(predictions_lgbm_01 > 0.15, 1, 0) #Turn probability to 0-1 binary output\n",
    "predictions_lgbm_01"
   ]
  },
  {
   "cell_type": "code",
   "execution_count": 192,
   "metadata": {},
   "outputs": [
    {
     "data": {
      "text/plain": [
       "1217"
      ]
     },
     "execution_count": 192,
     "metadata": {},
     "output_type": "execute_result"
    }
   ],
   "source": [
    "sum(predictions_lgbm_01)"
   ]
  },
  {
   "cell_type": "code",
   "execution_count": 193,
   "metadata": {},
   "outputs": [
    {
     "data": {
      "text/plain": [
       "3.0425"
      ]
     },
     "execution_count": 193,
     "metadata": {},
     "output_type": "execute_result"
    }
   ],
   "source": [
    "sum(predictions_lgbm_01)/len(predictions_lgbm_01)*100"
   ]
  },
  {
   "cell_type": "code",
   "execution_count": 194,
   "metadata": {},
   "outputs": [],
   "source": [
    "subFinal = pd.read_csv(\"C:/Users/mbura/Desktop/iyzico/samplesubmission.csv\")"
   ]
  },
  {
   "cell_type": "code",
   "execution_count": 195,
   "metadata": {},
   "outputs": [
    {
     "data": {
      "text/plain": [
       "40000"
      ]
     },
     "execution_count": 195,
     "metadata": {},
     "output_type": "execute_result"
    }
   ],
   "source": [
    "len(predictions_lgbm_01)"
   ]
  },
  {
   "cell_type": "code",
   "execution_count": 196,
   "metadata": {},
   "outputs": [],
   "source": [
    "subFinal.ISFRAUD = predictions_lgbm_01\n",
    "subFinal.ISFRAUD = subFinal.ISFRAUD.astype(int)"
   ]
  },
  {
   "cell_type": "code",
   "execution_count": 197,
   "metadata": {},
   "outputs": [
    {
     "data": {
      "text/plain": [
       "0    38783\n",
       "1     1217\n",
       "Name: ISFRAUD, dtype: int64"
      ]
     },
     "execution_count": 197,
     "metadata": {},
     "output_type": "execute_result"
    }
   ],
   "source": [
    "subFinal.ISFRAUD.value_counts()"
   ]
  },
  {
   "cell_type": "code",
   "execution_count": 198,
   "metadata": {},
   "outputs": [],
   "source": [
    "subFinal.to_csv(\"C:/Users/mbura/Desktop/iyzico/samplesubmission.csv\", index = False)"
   ]
  },
  {
   "cell_type": "code",
   "execution_count": null,
   "metadata": {},
   "outputs": [],
   "source": []
  }
 ],
 "metadata": {
  "kernelspec": {
   "display_name": "Python 3",
   "language": "python",
   "name": "python3"
  },
  "language_info": {
   "codemirror_mode": {
    "name": "ipython",
    "version": 3
   },
   "file_extension": ".py",
   "mimetype": "text/x-python",
   "name": "python",
   "nbconvert_exporter": "python",
   "pygments_lexer": "ipython3",
   "version": "3.6.7"
  }
 },
 "nbformat": 4,
 "nbformat_minor": 2
}
